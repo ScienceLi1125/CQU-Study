{
 "cells": [
  {
   "cell_type": "code",
   "execution_count": null,
   "metadata": {},
   "outputs": [],
   "source": [
    "import numpy as np\n",
    "import matplotlib.pyplot as plt\n",
    "from pylab import *\n",
    "import operator"
   ]
  },
  {
   "cell_type": "code",
   "execution_count": null,
   "metadata": {},
   "outputs": [],
   "source": [
    "\n",
    "featureDic = {\n",
    "    '色泽': ['浅白', '青绿', '乌黑'],\n",
    "    '根蒂': ['硬挺', '蜷缩', '稍蜷'],\n",
    "    '敲声': ['沉闷', '浊响', '清脆'],\n",
    "    '纹理': ['清晰', '模糊', '稍糊'],\n",
    "    '脐部': ['凹陷', '平坦', '稍凹'],\n",
    "    '触感': ['硬滑', '软粘']}"
   ]
  },
  {
   "cell_type": "code",
   "execution_count": null,
   "metadata": {},
   "outputs": [],
   "source": [
    "def load_data():\n",
    "    columns = ['色泽', '根蒂', '敲声', '纹理', '脐部', '触感', '密度', '含糖率', '好瓜']\n",
    "    data_ = [\n",
    "        ['青绿','蜷缩','浊响','清晰','凹陷','硬滑',0.697,0.460,'是'],\n",
    "        ['乌黑','蜷缩','沉闷','清晰','凹陷','硬滑',0.774,0.376,'是'],\n",
    "        ['乌黑','蜷缩','浊响','清晰','凹陷','硬滑',0.634,0.264,'是'],\n",
    "        ['青绿','蜷缩','沉闷','清晰','凹陷','硬滑',0.608,0.318,'是'],\n",
    "        ['浅白','蜷缩','浊响','清晰','凹陷','硬滑',0.556,0.215,'是'],\n",
    "        ['青绿','稍蜷','浊响','清晰','稍凹','软粘',0.403,0.237,'是'],\n",
    "        ['乌黑','稍蜷','浊响','稍糊','稍凹','软粘',0.481,0.149,'是'],\n",
    "        ['乌黑','稍蜷','浊响','清晰','稍凹','硬滑',0.437,0.211,'是'],\n",
    "        ['乌黑','稍蜷','沉闷','稍糊','稍凹','硬滑',0.666,0.091,'否'],\n",
    "        ['青绿','硬挺','清脆','清晰','平坦','软粘',0.243,0.267,'否'],\n",
    "        ['浅白','硬挺','清脆','模糊','平坦','硬滑',0.245,0.057,'否'],\n",
    "        ['浅白','蜷缩','浊响','模糊','平坦','软粘',0.343,0.099,'否'],\n",
    "        ['青绿','稍蜷','浊响','稍糊','凹陷','硬滑',0.639,0.161,'否'],\n",
    "        ['浅白','稍蜷','沉闷','稍糊','凹陷','硬滑',0.657,0.198,'否'],\n",
    "        ['乌黑','稍蜷','浊响','清晰','稍凹','软粘',0.360,0.370,'否'],\n",
    "        ['浅白','蜷缩','浊响','模糊','平坦','硬滑',0.593,0.042,'否'],\n",
    "        ['青绿','蜷缩','沉闷','稍糊','稍凹','硬滑',0.719,0.103,'否'],\n",
    "    ]\n",
    "    labels = ['是', '否']\n",
    "    # 创建二维表\n",
    "    df = pd.DataFrame(data_, columns=columns)\n",
    "    y = df.pop('好瓜')\n",
    "    # X = pd.get_dummies(df)\n",
    "    return df,y"
   ]
  },
  {
   "cell_type": "code",
   "execution_count": null,
   "metadata": {},
   "outputs": [],
   "source": [
    "X,y = load_data()\n",
    "\n",
    "\n",
    "aode = AODE(0)\n",
    "print(aode.fit(X, y).predict(X.iloc[[0], :]))"
   ]
  },
  {
   "cell_type": "code",
   "execution_count": null,
   "metadata": {},
   "outputs": [],
   "source": []
  }
 ],
 "metadata": {
  "kernelspec": {
   "display_name": "ml",
   "language": "python",
   "name": "ml"
  },
  "language_info": {
   "codemirror_mode": {
    "name": "ipython",
    "version": 3
   },
   "file_extension": ".py",
   "mimetype": "text/x-python",
   "name": "python",
   "nbconvert_exporter": "python",
   "pygments_lexer": "ipython3",
   "version": "3.9.13"
  },
  "orig_nbformat": 4
 },
 "nbformat": 4,
 "nbformat_minor": 2
}
