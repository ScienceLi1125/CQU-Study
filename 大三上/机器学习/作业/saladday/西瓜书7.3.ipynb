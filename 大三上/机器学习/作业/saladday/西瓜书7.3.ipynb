{
 "cells": [
  {
   "cell_type": "code",
   "execution_count": 1,
   "metadata": {},
   "outputs": [],
   "source": [
    "import numpy as np\n",
    "import pandas as pd\n",
    "from sklearn.utils.multiclass import type_of_target\n",
    "from collections import namedtuple\n",
    "import json"
   ]
  },
  {
   "cell_type": "code",
   "execution_count": 3,
   "metadata": {},
   "outputs": [],
   "source": [
    "def load_data():\n",
    "    columns = ['色泽', '根蒂', '敲声', '纹理', '脐部', '触感', '密度', '含糖率', '好瓜']\n",
    "    data_ = [\n",
    "        ['青绿','蜷缩','浊响','清晰','凹陷','硬滑',0.697,0.460,'是'],\n",
    "        ['乌黑','蜷缩','沉闷','清晰','凹陷','硬滑',0.774,0.376,'是'],\n",
    "        ['乌黑','蜷缩','浊响','清晰','凹陷','硬滑',0.634,0.264,'是'],\n",
    "        ['青绿','蜷缩','沉闷','清晰','凹陷','硬滑',0.608,0.318,'是'],\n",
    "        ['浅白','蜷缩','浊响','清晰','凹陷','硬滑',0.556,0.215,'是'],\n",
    "        ['青绿','稍蜷','浊响','清晰','稍凹','软粘',0.403,0.237,'是'],\n",
    "        ['乌黑','稍蜷','浊响','稍糊','稍凹','软粘',0.481,0.149,'是'],\n",
    "        ['乌黑','稍蜷','浊响','清晰','稍凹','硬滑',0.437,0.211,'是'],\n",
    "        ['乌黑','稍蜷','沉闷','稍糊','稍凹','硬滑',0.666,0.091,'否'],\n",
    "        ['青绿','硬挺','清脆','清晰','平坦','软粘',0.243,0.267,'否'],\n",
    "        ['浅白','硬挺','清脆','模糊','平坦','硬滑',0.245,0.057,'否'],\n",
    "        ['浅白','蜷缩','浊响','模糊','平坦','软粘',0.343,0.099,'否'],\n",
    "        ['青绿','稍蜷','浊响','稍糊','凹陷','硬滑',0.639,0.161,'否'],\n",
    "        ['浅白','稍蜷','沉闷','稍糊','凹陷','硬滑',0.657,0.198,'否'],\n",
    "        ['乌黑','稍蜷','浊响','清晰','稍凹','软粘',0.360,0.370,'否'],\n",
    "        ['浅白','蜷缩','浊响','模糊','平坦','硬滑',0.593,0.042,'否'],\n",
    "        ['青绿','蜷缩','沉闷','稍糊','稍凹','硬滑',0.719,0.103,'否'],\n",
    "    ]\n",
    "    labels = ['是', '否']\n",
    "    # 创建二维表\n",
    "    df = pd.DataFrame(data_, columns=columns)\n",
    "    y = df.pop('好瓜')\n",
    "    # X = pd.get_dummies(df)\n",
    "    return df,y"
   ]
  },
  {
   "cell_type": "code",
   "execution_count": null,
   "metadata": {},
   "outputs": [],
   "source": [
    "X,y = load_data()\n",
    "prior_probability,conditional_probability,labels = train(X,y)\n",
    "def predict(data,train_labels_set = labels,\n",
    "            conditional_probability = conditional_probability,\n",
    "            prior_probability = prior_probability):\n",
    "    result={}\n",
    "    for label in train_labels_set:\n",
    "        tmp = 1.0\n",
    "        for j in range(len(data)): # 遍历data的每个特征\n",
    "            key = str(label)+','+str(j)+','+str(data[j])\n",
    "            tmp*=conditional_probability[key]\n",
    "        result[label] = tmp*prior_probability[label]\n",
    "    print(result)"
   ]
  },
  {
   "cell_type": "code",
   "execution_count": 17,
   "metadata": {},
   "outputs": [],
   "source": [
    "def predict(data,train_labels_set,\n",
    "            conditional_probability,\n",
    "            prior_probability):\n",
    "    result={}\n",
    "    for label in train_labels_set:\n",
    "        tmp = 1.0\n",
    "        for j in range(len(data)): # 遍历data的每个特征\n",
    "            if isinstance(data[j],(int,float)):\n",
    "                key = (label,j,data[j])\n",
    "                tmp*=conditional_probability[key]\n",
    "            else:\n",
    "                key = (label, j, data[j])\n",
    "                tmp*=conditional_probability.get(key,0.01)\n",
    "        result[label] = tmp*prior_probability[label]\n",
    "    return sorted(result.items(),key=lambda x:x[1],reverse=True)[0][0]"
   ]
  },
  {
   "cell_type": "code",
   "execution_count": null,
   "metadata": {},
   "outputs": [],
   "source": []
  }
 ],
 "metadata": {
  "kernelspec": {
   "display_name": "ml",
   "language": "python",
   "name": "ml"
  },
  "language_info": {
   "codemirror_mode": {
    "name": "ipython",
    "version": 3
   },
   "file_extension": ".py",
   "mimetype": "text/x-python",
   "name": "python",
   "nbconvert_exporter": "python",
   "pygments_lexer": "ipython3",
   "version": "3.9.13"
  },
  "orig_nbformat": 4
 },
 "nbformat": 4,
 "nbformat_minor": 2
}
